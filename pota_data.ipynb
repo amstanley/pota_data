{
 "cells": [
  {
   "cell_type": "code",
   "execution_count": 44,
   "id": "6941e6d1",
   "metadata": {},
   "outputs": [],
   "source": [
    "# code to access and manipulate data from the https://pota.app/#/ website API\n",
    "\n",
    "# With help from the team on the POTA Discord API Channel\n",
    "\n"
   ]
  },
  {
   "cell_type": "code",
   "execution_count": 45,
   "id": "c7d65bed",
   "metadata": {},
   "outputs": [],
   "source": [
    "#---------------imports and setup\n",
    "import requests\n",
    "import pandas as pd\n",
    "import numpy as np\n",
    "import openpyxl\n",
    "\n",
    "\n",
    "#setup logging <- setup needs to be specific to jupyter notebook\n",
    "import logging\n",
    "\n",
    "#we do this to set up logging so it works in jupyter notebook AND does not spawn duplicate loggers if the cell is run repeatedly\n",
    "try:\n",
    "    logger\n",
    "    \n",
    "except NameError: #logging not set up yet\n",
    "    \n",
    "    logger = logging.getLogger()\n",
    "    fhandler = logging.FileHandler(filename='python.log', mode='a')\n",
    "    formatter = logging.Formatter('%(asctime)s - %(name)s - %(levelname)s - %(message)s')\n",
    "    fhandler.setFormatter(formatter)\n",
    "    logger.addHandler(fhandler)\n",
    "    logger.setLevel(logging.DEBUG)\n",
    "    \n",
    "logging.info(f'starting to log for pota_data')"
   ]
  },
  {
   "cell_type": "code",
   "execution_count": 46,
   "id": "533e549b",
   "metadata": {},
   "outputs": [
    {
     "data": {
      "text/html": [
       "<style>.container { width:100% !important; }</style>"
      ],
      "text/plain": [
       "<IPython.core.display.HTML object>"
      ]
     },
     "metadata": {},
     "output_type": "display_data"
    }
   ],
   "source": [
    "#----------------Jupyter Notebook Helpers\n",
    "\n",
    "# display settings \n",
    "#see https://stackoverflow.com/questions/21971449/how-do-i-increase-the-cell-width-of-the-jupyter-ipython-notebook-in-my-browser\n",
    "\n",
    "#display full window width\n",
    "from IPython.display import display, HTML\n",
    "display(HTML(\"<style>.container { width:100% !important; }</style>\"))\n"
   ]
  },
  {
   "cell_type": "code",
   "execution_count": 47,
   "id": "12b48b86",
   "metadata": {},
   "outputs": [],
   "source": [
    "#---------------# API Endpoints\n",
    "\n",
    "# these are taken from the app, or mentioned in the discord. \n",
    "# public APIs only, does not include developer APIs requiring authentication\n",
    "\n",
    "pota_locations_api_url = \"https://api.pota.app/locations\" \n",
    "# index list of State/Region codes although not all locations in that list have parks. (The other url will return an empty list for some of them.)\n",
    "\n",
    "# https://api.pota.app/location/parks/US-IL \n",
    "# where you would replace the US-IL with what every State / Region you want to get parks in. \n",
    "# Returns a list of dictionaries / objects. Which each hold the parks reference (park number), Name, Latitude and Longitude, Grid Square, \n",
    "# locationDesc (which is useful for trails since it has the list of all regions the park is in), attempts, activations and total QSOs.\n",
    "\n",
    "# https://api.pota.app/spot/activator\n",
    "# the list of current POTA activators like what is shown on the POTA spots page.\n",
    "# count is the number of spots we've had for that station, it's the number that shows up on the table\n",
    "\n",
    "# https://api.pota.app/park/activations/%7B%7D?count=all\n",
    "# activations\n",
    "# %7B%7D is for US locations\n",
    "\n",
    "# https://api.pota.app/park/<reference> \n",
    "# provides grid square, entity, and name, \n",
    "\n",
    "# https://api.pota.app/v1/spots\n",
    "# the new endpoint to get the current spots  \n",
    "\n",
    "parks_data_csv_url = 'https://pota.app/all_parks_ext.csv'\n",
    "# For just park information, we do have a CSV available. You can have clients check once a week or on demand to load more info: \n",
    "\n"
   ]
  },
  {
   "cell_type": "raw",
   "id": "16d97b45",
   "metadata": {},
   "source": [
    "#------------------sites using POTA Data (that we are awaare of)\n",
    "\n",
    "# not by any means a comprehensive list\n",
    "\n",
    "# https://jwgtechs.com/pota/ "
   ]
  },
  {
   "cell_type": "code",
   "execution_count": 48,
   "id": "0c8cd277",
   "metadata": {},
   "outputs": [],
   "source": [
    "# ----------------------global activation count data\n",
    "\n",
    "# there is an api which will give y9u the activati9n counts\n",
    "# but it is available by US State or foreign province/ territorty, there is no global way to access it\n",
    "# we will consrtuct by getting a list of locations and then querying each entry to get the activqtion totals\n",
    "# this will be used to make a global list for visualization\n",
    "\n",
    "logging.info(f'starting to harvest location data')\n",
    "\n",
    "# get a list of the locations\n",
    "df_pota_locations = pd.read_json(pota_locations_api_url)\n",
    "logging.info(f'location data harvested from {pota_locations_api_url}')\n",
    "\n",
    "\n",
    "# returned data looks like this:\n",
    "# index locationId entityId  entityName            locationDesc locationName latitude longitude\n",
    "# 0         2         6       Alaska                  US-AK       Alaska      61.3707 -152.4040\n",
    "# 1         3        291 United States Of America     US-AL       Alabama     32.8067 -86.7911\n",
    "\n",
    "# we want the locationDesc which is a globally unique identifier\n",
    "# plugging this into the API will give us the activations for the entity\n",
    "pota_loc_desc_names = df_pota_locations[\"locationDesc\"].values.tolist()\n",
    "\n",
    "# make an empty dataframe to put things into\n",
    "df_pota_global_activation_count_data = pd.DataFrame()\n",
    "\n",
    "for pota_location in pota_loc_desc_names :\n",
    "    \n",
    "    df_pota_locations_temp = pd.read_json(f'https://api.pota.app/location/parks/{pota_location}')\n",
    "    df_pota_global_activation_count_data = pd.concat([df_pota_global_activation_count_data, df_pota_locations_temp], sort=False, ignore_index=True)\n",
    "    logging.info(f'pota_global_activation_count_data data harvested for {pota_location}')\n",
    "\n",
    "logging.info(f'pota_global_activation_count_data data harvested')\n",
    "\n",
    "#persist to an excel file\n",
    "file_save_location = \"pota_global_activation_count_data.xlsx\"\n",
    "df_pota_global_activation_count_data.to_excel(file_save_location)\n",
    "logging.info(f'pota_global_activation_count_data data persisted to {file_save_location}')\n",
    "\n",
    "\n",
    "\n",
    "    "
   ]
  },
  {
   "cell_type": "code",
   "execution_count": null,
   "id": "e1b4a391",
   "metadata": {},
   "outputs": [],
   "source": []
  },
  {
   "cell_type": "code",
   "execution_count": null,
   "id": "0ee9939a",
   "metadata": {},
   "outputs": [],
   "source": []
  }
 ],
 "metadata": {
  "kernelspec": {
   "display_name": "Python 3 (ipykernel)",
   "language": "python",
   "name": "python3"
  },
  "language_info": {
   "codemirror_mode": {
    "name": "ipython",
    "version": 3
   },
   "file_extension": ".py",
   "mimetype": "text/x-python",
   "name": "python",
   "nbconvert_exporter": "python",
   "pygments_lexer": "ipython3",
   "version": "3.10.6"
  }
 },
 "nbformat": 4,
 "nbformat_minor": 5
}
